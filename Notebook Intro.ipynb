{
 "cells": [
  {
   "cell_type": "markdown",
   "metadata": {
    "slideshow": {
     "slide_type": "slide"
    }
   },
   "source": [
    "<center><h1>Introduction to the Jupyter Notebook</h1></center>\n",
    "<center><img src=\"http://blog.jupyter.org/content/images/2015/02/jupyter-sq-text.png\"/></center>\n",
    "<center><h2>Auberon López</h2></center>"
   ]
  },
  {
   "cell_type": "markdown",
   "metadata": {
    "slideshow": {
     "slide_type": "slide"
    }
   },
   "source": [
    "<h2>What is it used for?</h2>\n",
    "<ul>\n",
    "<li>Rapid prototyping</li>\n",
    "<li>Data analysis</li>\n",
    "<li>Documentation</li>\n",
    "<li>Presentation</li>\n",
    "</ul>"
   ]
  },
  {
   "cell_type": "markdown",
   "metadata": {
    "slideshow": {
     "slide_type": "slide"
    }
   },
   "source": [
    "You can execute live code in the notebook"
   ]
  },
  {
   "cell_type": "code",
   "execution_count": 1,
   "metadata": {
    "collapsed": false
   },
   "outputs": [
    {
     "name": "stdout",
     "output_type": "stream",
     "text": [
      "Hello World\n",
      "4756271472\n"
     ]
    }
   ],
   "source": [
    "print \"Hello World\"\n",
    "print 6 * 8 * 99088989"
   ]
  },
  {
   "cell_type": "markdown",
   "metadata": {
    "slideshow": {
     "slide_type": "slide"
    }
   },
   "source": [
    "Your notes, code and output are stored side by side, creating a narrative of the work you've done"
   ]
  },
  {
   "cell_type": "code",
   "execution_count": 2,
   "metadata": {
    "collapsed": false,
    "slideshow": {
     "slide_type": "-"
    }
   },
   "outputs": [
    {
     "name": "stdout",
     "output_type": "stream",
     "text": [
      "[  1.   2.   3.   4.   6.   7.   8.   9.  10.]\n",
      "[   1.64872127    2.71828183    4.48168907    7.3890561    20.08553692\n",
      "   33.11545196   54.59815003   90.0171313   148.4131591 ]\n"
     ]
    }
   ],
   "source": [
    "import numpy as np\n",
    "import math\n",
    "\n",
    "x = np.round(np.linspace(1, 10, 9))\n",
    "y = math.e ** (x/2)\n",
    "print x\n",
    "print y"
   ]
  },
  {
   "cell_type": "markdown",
   "metadata": {
    "slideshow": {
     "slide_type": "slide"
    }
   },
   "source": [
    "$$F(x) = e^{x/2}$$"
   ]
  },
  {
   "cell_type": "code",
   "execution_count": 3,
   "metadata": {
    "collapsed": false,
    "slideshow": {
     "slide_type": "-"
    }
   },
   "outputs": [
    {
     "data": {
      "text/plain": [
       "[<matplotlib.lines.Line2D at 0x107cf8210>]"
      ]
     },
     "execution_count": 3,
     "metadata": {},
     "output_type": "execute_result"
    },
    {
     "data": {
      "image/png": "[encoded data removed]",
      "text/plain": [
       "<matplotlib.figure.Figure at 0x10453fb10>"
      ]
     },
     "metadata": {},
     "output_type": "display_data"
    }
   ],
   "source": [
    "%matplotlib inline\n",
    "import matplotlib.pyplot as plt\n",
    "\n",
    "plt.plot(x,y)"
   ]
  },
  {
   "cell_type": "markdown",
   "metadata": {
    "collapsed": true,
    "slideshow": {
     "slide_type": "slide"
    }
   },
   "source": [
    "#Interactivity\n",
    "You can make your output interactive!"
   ]
  },
  {
   "cell_type": "markdown",
   "metadata": {
    "slideshow": {
     "slide_type": "slide"
    }
   },
   "source": [
    "Create a simple quadratic priniting function"
   ]
  },
  {
   "cell_type": "code",
   "execution_count": 4,
   "metadata": {
    "collapsed": false,
    "slideshow": {
     "slide_type": "-"
    }
   },
   "outputs": [
    {
     "data": {
      "image/png": "[encoded data removed]",
      "text/plain": [
       "<matplotlib.figure.Figure at 0x107d78410>"
      ]
     },
     "metadata": {},
     "output_type": "display_data"
    }
   ],
   "source": [
    "def plot_quadratic(a=0, b=0, c=0):\n",
    "    x = np.linspace(-10,10,40)\n",
    "    y = map(lambda x: a * (x ** 2) + b * x + c, x)\n",
    "    plt.plot(x,y)\n",
    "    plt.axis([-10, 10, -20, 20])\n",
    "plot_quadratic(-1,2,3)"
   ]
  },
  {
   "cell_type": "markdown",
   "metadata": {
    "slideshow": {
     "slide_type": "slide"
    }
   },
   "source": [
    "Make it interactive!"
   ]
  },
  {
   "cell_type": "code",
   "execution_count": 5,
   "metadata": {
    "collapsed": false,
    "slideshow": {
     "slide_type": "-"
    }
   },
   "outputs": [
    {
     "data": {
      "image/png": "[encoded data removed]",
      "text/plain": [
       "<matplotlib.figure.Figure at 0x107d2a310>"
      ]
     },
     "metadata": {},
     "output_type": "display_data"
    }
   ],
   "source": [
    "from ipywidgets import interactive\n",
    "interactive(plot_quadratic, a=(-2,2,.1), b=(-5, 5, .1), c=(-5, 5, .1))"
   ]
  },
  {
   "cell_type": "markdown",
   "metadata": {
    "slideshow": {
     "slide_type": "slide"
    }
   },
   "source": [
    "#Extensions\n",
    "You can install extensions for extra functionality!"
   ]
  },
  {
   "cell_type": "code",
   "execution_count": 6,
   "metadata": {
    "collapsed": false
   },
   "outputs": [],
   "source": [
    "%reload_ext rpy2.ipython"
   ]
  },
  {
   "cell_type": "code",
   "execution_count": 7,
   "metadata": {
    "collapsed": false
   },
   "outputs": [
    {
     "data": {
      "text/plain": [
       "   Hair   Eye  Sex Freq\n",
       "1 Black Brown Male   32\n",
       "2 Brown Brown Male   53\n",
       "3   Red Brown Male   10\n",
       "4 Blond Brown Male    3\n",
       "5 Black  Blue Male   11\n",
       "6 Brown  Blue Male   50\n"
      ]
     },
     "metadata": {},
     "output_type": "display_data"
    }
   ],
   "source": [
    "%%R\n",
    "library(rCharts)\n",
    "hair_eye_male = subset(as.data.frame(HairEyeColor), Sex == \"Male\")\n",
    "n1 <- nPlot(Freq ~ Hair, group = 'Eye',\n",
    "  data = hair_eye_male, type = 'multiBarChart'\n",
    ")\n",
    "head(hair_eye_male)"
   ]
  },
  {
   "cell_type": "code",
   "execution_count": 8,
   "metadata": {
    "collapsed": false,
    "slideshow": {
     "slide_type": "slide"
    }
   },
   "outputs": [
    {
     "data": {
      "text/html": [
       "<iframe srcdoc=' &lt;!doctype HTML&gt;\n",
       "&lt;meta charset = &#039;utf-8&#039;&gt;\n",
       "&lt;html&gt;\n",
       "  &lt;head&gt;\n",
       "    &lt;link rel=&#039;stylesheet&#039; href=&#039;//cdnjs.cloudflare.com/ajax/libs/nvd3/1.1.15-beta/nv.d3.min.css&#039;&gt;\n",
       "    \n",
       "    &lt;script src=&#039;//ajax.googleapis.com/ajax/libs/jquery/1.8.2/jquery.min.js&#039; type=&#039;text/javascript&#039;&gt;&lt;/script&gt;\n",
       "    &lt;script src=&#039;//d3js.org/d3.v3.min.js&#039; type=&#039;text/javascript&#039;&gt;&lt;/script&gt;\n",
       "    &lt;script src=&#039;//cdnjs.cloudflare.com/ajax/libs/nvd3/1.1.15-beta/nv.d3.min.js&#039; type=&#039;text/javascript&#039;&gt;&lt;/script&gt;\n",
       "    &lt;script src=&#039;//nvd3.org/assets/lib/fisheye.js&#039; type=&#039;text/javascript&#039;&gt;&lt;/script&gt;\n",
       "    \n",
       "    &lt;style&gt;\n",
       "    .rChart {\n",
       "      display: block;\n",
       "      margin-left: auto; \n",
       "      margin-right: auto;\n",
       "      width: 800px;\n",
       "      height: 400px;\n",
       "    }  \n",
       "    &lt;/style&gt;\n",
       "    \n",
       "  &lt;/head&gt;\n",
       "  &lt;body &gt;\n",
       "    \n",
       "    &lt;div id = &#039;chart50307e952642&#039; class = &#039;rChart nvd3&#039;&gt;&lt;/div&gt;    \n",
       "    &lt;script type=&#039;text/javascript&#039;&gt;\n",
       " $(document).ready(function(){\n",
       "      drawchart50307e952642()\n",
       "    });\n",
       "    function drawchart50307e952642(){  \n",
       "      var opts = {\n",
       " &quot;dom&quot;: &quot;chart50307e952642&quot;,\n",
       "&quot;width&quot;:    800,\n",
       "&quot;height&quot;:    400,\n",
       "&quot;x&quot;: &quot;Hair&quot;,\n",
       "&quot;y&quot;: &quot;Freq&quot;,\n",
       "&quot;group&quot;: &quot;Eye&quot;,\n",
       "&quot;type&quot;: &quot;multiBarChart&quot;,\n",
       "&quot;id&quot;: &quot;chart50307e952642&quot; \n",
       "},\n",
       "        data = [\n",
       " {\n",
       " &quot;Hair&quot;: &quot;Black&quot;,\n",
       "&quot;Eye&quot;: &quot;Brown&quot;,\n",
       "&quot;Sex&quot;: &quot;Male&quot;,\n",
       "&quot;Freq&quot;:             32 \n",
       "},\n",
       "{\n",
       " &quot;Hair&quot;: &quot;Brown&quot;,\n",
       "&quot;Eye&quot;: &quot;Brown&quot;,\n",
       "&quot;Sex&quot;: &quot;Male&quot;,\n",
       "&quot;Freq&quot;:             53 \n",
       "},\n",
       "{\n",
       " &quot;Hair&quot;: &quot;Red&quot;,\n",
       "&quot;Eye&quot;: &quot;Brown&quot;,\n",
       "&quot;Sex&quot;: &quot;Male&quot;,\n",
       "&quot;Freq&quot;:             10 \n",
       "},\n",
       "{\n",
       " &quot;Hair&quot;: &quot;Blond&quot;,\n",
       "&quot;Eye&quot;: &quot;Brown&quot;,\n",
       "&quot;Sex&quot;: &quot;Male&quot;,\n",
       "&quot;Freq&quot;:              3 \n",
       "},\n",
       "{\n",
       " &quot;Hair&quot;: &quot;Black&quot;,\n",
       "&quot;Eye&quot;: &quot;Blue&quot;,\n",
       "&quot;Sex&quot;: &quot;Male&quot;,\n",
       "&quot;Freq&quot;:             11 \n",
       "},\n",
       "{\n",
       " &quot;Hair&quot;: &quot;Brown&quot;,\n",
       "&quot;Eye&quot;: &quot;Blue&quot;,\n",
       "&quot;Sex&quot;: &quot;Male&quot;,\n",
       "&quot;Freq&quot;:             50 \n",
       "},\n",
       "{\n",
       " &quot;Hair&quot;: &quot;Red&quot;,\n",
       "&quot;Eye&quot;: &quot;Blue&quot;,\n",
       "&quot;Sex&quot;: &quot;Male&quot;,\n",
       "&quot;Freq&quot;:             10 \n",
       "},\n",
       "{\n",
       " &quot;Hair&quot;: &quot;Blond&quot;,\n",
       "&quot;Eye&quot;: &quot;Blue&quot;,\n",
       "&quot;Sex&quot;: &quot;Male&quot;,\n",
       "&quot;Freq&quot;:             30 \n",
       "},\n",
       "{\n",
       " &quot;Hair&quot;: &quot;Black&quot;,\n",
       "&quot;Eye&quot;: &quot;Hazel&quot;,\n",
       "&quot;Sex&quot;: &quot;Male&quot;,\n",
       "&quot;Freq&quot;:             10 \n",
       "},\n",
       "{\n",
       " &quot;Hair&quot;: &quot;Brown&quot;,\n",
       "&quot;Eye&quot;: &quot;Hazel&quot;,\n",
       "&quot;Sex&quot;: &quot;Male&quot;,\n",
       "&quot;Freq&quot;:             25 \n",
       "},\n",
       "{\n",
       " &quot;Hair&quot;: &quot;Red&quot;,\n",
       "&quot;Eye&quot;: &quot;Hazel&quot;,\n",
       "&quot;Sex&quot;: &quot;Male&quot;,\n",
       "&quot;Freq&quot;:              7 \n",
       "},\n",
       "{\n",
       " &quot;Hair&quot;: &quot;Blond&quot;,\n",
       "&quot;Eye&quot;: &quot;Hazel&quot;,\n",
       "&quot;Sex&quot;: &quot;Male&quot;,\n",
       "&quot;Freq&quot;:              5 \n",
       "},\n",
       "{\n",
       " &quot;Hair&quot;: &quot;Black&quot;,\n",
       "&quot;Eye&quot;: &quot;Green&quot;,\n",
       "&quot;Sex&quot;: &quot;Male&quot;,\n",
       "&quot;Freq&quot;:              3 \n",
       "},\n",
       "{\n",
       " &quot;Hair&quot;: &quot;Brown&quot;,\n",
       "&quot;Eye&quot;: &quot;Green&quot;,\n",
       "&quot;Sex&quot;: &quot;Male&quot;,\n",
       "&quot;Freq&quot;:             15 \n",
       "},\n",
       "{\n",
       " &quot;Hair&quot;: &quot;Red&quot;,\n",
       "&quot;Eye&quot;: &quot;Green&quot;,\n",
       "&quot;Sex&quot;: &quot;Male&quot;,\n",
       "&quot;Freq&quot;:              7 \n",
       "},\n",
       "{\n",
       " &quot;Hair&quot;: &quot;Blond&quot;,\n",
       "&quot;Eye&quot;: &quot;Green&quot;,\n",
       "&quot;Sex&quot;: &quot;Male&quot;,\n",
       "&quot;Freq&quot;:              8 \n",
       "} \n",
       "]\n",
       "  \n",
       "      if(!(opts.type===&quot;pieChart&quot; || opts.type===&quot;sparklinePlus&quot; || opts.type===&quot;bulletChart&quot;)) {\n",
       "        var data = d3.nest()\n",
       "          .key(function(d){\n",
       "            //return opts.group === undefined ? &#039;main&#039; : d[opts.group]\n",
       "            //instead of main would think a better default is opts.x\n",
       "            return opts.group === undefined ? opts.y : d[opts.group];\n",
       "          })\n",
       "          .entries(data);\n",
       "      }\n",
       "      \n",
       "      if (opts.disabled != undefined){\n",
       "        data.map(function(d, i){\n",
       "          d.disabled = opts.disabled[i]\n",
       "        })\n",
       "      }\n",
       "      \n",
       "      nv.addGraph(function() {\n",
       "        var chart = nv.models[opts.type]()\n",
       "          .width(opts.width)\n",
       "          .height(opts.height)\n",
       "          \n",
       "        if (opts.type != &quot;bulletChart&quot;){\n",
       "          chart\n",
       "            .x(function(d) { return d[opts.x] })\n",
       "            .y(function(d) { return d[opts.y] })\n",
       "        }\n",
       "          \n",
       "         \n",
       "        \n",
       "          \n",
       "        \n",
       "\n",
       "        \n",
       "        \n",
       "        \n",
       "      \n",
       "       d3.select(&quot;#&quot; + opts.id)\n",
       "        .append(&#039;svg&#039;)\n",
       "        .datum(data)\n",
       "        .transition().duration(500)\n",
       "        .call(chart);\n",
       "\n",
       "       nv.utils.windowResize(chart.update);\n",
       "       return chart;\n",
       "      });\n",
       "    };\n",
       "&lt;/script&gt;\n",
       "    \n",
       "    &lt;script&gt;&lt;/script&gt;    \n",
       "  &lt;/body&gt;\n",
       "&lt;/html&gt; ' scrolling='no' frameBorder='0' seamless class='rChart  nvd3  ' id='iframe-chart50307e952642'> </iframe>\n",
       " <style>iframe.rChart{ width: 100%; height: 400px;}</style>"
      ],
      "text/plain": [
       "<IPython.core.display.HTML object>"
      ]
     },
     "execution_count": 8,
     "metadata": {},
     "output_type": "execute_result"
    }
   ],
   "source": [
    "from IPython.display import HTML\n",
    "chart = %R chart = paste(capture.output(n1$show('iframesrc', cdn = TRUE)), collapse = '\\n')\n",
    "HTML(chart[0])"
   ]
  },
  {
   "cell_type": "markdown",
   "metadata": {
    "slideshow": {
     "slide_type": "slide"
    }
   },
   "source": [
    "#Bash\n",
    "You can directly call bash using `!`"
   ]
  },
  {
   "cell_type": "code",
   "execution_count": 9,
   "metadata": {
    "collapsed": false,
    "slideshow": {
     "slide_type": "-"
    }
   },
   "outputs": [
    {
     "name": "stdout",
     "output_type": "stream",
     "text": [
      "# jupyterIntro\r\n",
      "Presentation to introduce the Jupyter Notebook\r\n"
     ]
    }
   ],
   "source": [
    "! cat README.md"
   ]
  },
  {
   "cell_type": "markdown",
   "metadata": {
    "slideshow": {
     "slide_type": "slide"
    }
   },
   "source": [
    "You can use the bash results in python!"
   ]
  },
  {
   "cell_type": "code",
   "execution_count": 10,
   "metadata": {
    "collapsed": false,
    "slideshow": {
     "slide_type": "-"
    }
   },
   "outputs": [
    {
     "name": "stdout",
     "output_type": "stream",
     "text": [
      "['# jupyterIntro', 'Presentation to introduce the Jupyter Notebook']\n"
     ]
    }
   ],
   "source": [
    "readme = ! cat README.md\n",
    "print readme"
   ]
  },
  {
   "cell_type": "code",
   "execution_count": 11,
   "metadata": {
    "collapsed": false,
    "slideshow": {
     "slide_type": "skip"
    }
   },
   "outputs": [],
   "source": [
    "css_logo = \"\"\"\n",
    "<html>\n",
    "    <head>\n",
    "        <style>\n",
    "        body {\n",
    "  background-color: #b0c4de;\n",
    "}\n",
    ".scene {\n",
    "  perspective: 450px;\n",
    "  -webkit-perspective: 450px;\n",
    "  perspective-orgin: 100px;\n",
    "  -webkit-perspective-origin: 100px;\n",
    "  position: absolute;\n",
    "  top: 50%;\n",
    "  left: 50%;\n",
    "}\n",
    ".planet {\n",
    "  position: absolute;\n",
    "  left: -75px;\n",
    "  top: -75px;\n",
    "  width: 150px;\n",
    "  height: 150px;\n",
    "  border-radius: 50%;\n",
    "}\n",
    ".planetImg {\n",
    "  width: 150px;\n",
    "  height: 150px;\n",
    "}\n",
    ".moon {\n",
    "  position: absolute;\n",
    "  left: 50%;\n",
    "  top: 50%;\n",
    "  width: 22.5px;\n",
    "  height: 22.5px;\n",
    "  border-radius: 22.5px;\n",
    "  background-color: #636463;\n",
    "  -webkit-animation-duration: 3s;\n",
    "  -moz-animation-duration: 3s;\n",
    "  -ms-animation-duration: 3s;\n",
    "  -o-animation-duration: 3s;\n",
    "  -webkit-animation-iteration-count: infinite;\n",
    "  -moz-animation-iteration-count: infinite;\n",
    "  -ms-animation-iteration-count: infinite;\n",
    "  -o-animation-iteration-count: infinite;\n",
    "  animation-iteration-count: infinite;\n",
    "  -webkit-animation-timing-function: linear;\n",
    "  -moz-animation-timing-function: linear;\n",
    "  -ms-animation-timing-function: linear;\n",
    "  -o-animation-timing-function: linear;\n",
    "  animation-timing-function: linear;\n",
    "  z-index: 1;\n",
    "}\n",
    ".moon1 {\n",
    "  -webkit-animation-name: orbit1;\n",
    "  -moz-animation-name: orbit1;\n",
    "  -ms-animation-name: orbit1;\n",
    "  -o-animation-name: orbit1;\n",
    "  animation-name: orbit1;\n",
    "  -webkit-transform: rotateZ(220deg) rotateY(90deg) translate3D(0px, 0px, 105px) rotateY(-90deg);\n",
    "  -moz-transform: rotateZ(220deg) rotateY(90deg) translate3D(0px, 0px, 105px) rotateY(-90deg);\n",
    "  -ms-transform: rotateZ(220deg) rotateY(90deg) translate3D(0px, 0px, 105px) rotateY(-90deg);\n",
    "  -o-transform: rotateZ(220deg) rotateY(90deg) translate3D(0px, 0px, 105px) rotateY(-90deg);\n",
    "  transform: rotateZ(220deg) rotateY(90deg) translate3D(0px, 0px, 105px) rotateY(-90deg);\n",
    "}\n",
    ".moon2 {\n",
    "  -webkit-animation-name: orbit2;\n",
    "  -moz-animation-name: orbit2;\n",
    "  -ms-animation-name: orbit2;\n",
    "  -o-animation-name: orbit2;\n",
    "  animation-name: orbit2;\n",
    "  -webkit-animation-delay: -1s;\n",
    "  -moz-animation-delay: -1s;\n",
    "  -ms-animation-delay: -1s;\n",
    "  -o-animation-delay: -1s;\n",
    "  animation-delay: -1s;\n",
    "  -webkit-transform: rotateZ(-50deg) rotateY(90deg) translate3D(0px, 0px, 105px) rotateY(-90deg);\n",
    "  -moz-transform: rotateZ(-50deg) rotateY(90deg) translate3D(0px, 0px, 105px) rotateY(-90deg);\n",
    "  -ms-transform: rotateZ(-50deg) rotateY(90deg) translate3D(0px, 0px, 105px) rotateY(-90deg);\n",
    "  -o-transform: rotateZ(-50deg) rotateY(90deg) translate3D(0px, 0px, 105px) rotateY(-90deg);\n",
    "  transform: rotateZ(-50deg) rotateY(90deg) translate3D(0px, 0px, 105px) rotateY(-90deg);\n",
    "  z-index: -1;\n",
    "}\n",
    ".moon3 {\n",
    "  -webkit-animation-name: orbit3;\n",
    "  -moz-animation-name: orbit3;\n",
    "  -ms-animation-name: orbit3;\n",
    "  -o-animation-name: orbit3;\n",
    "  animation-name: orbit3;\n",
    "  -webkit-animation-delay: -2s;\n",
    "  -moz-animation-delay: -2s;\n",
    "  -ms-animation-delay: -2s;\n",
    "  -o-animation-delay: -2s;\n",
    "  animation-delay: -2s;\n",
    "  -webkit-transform: rotateZ(100deg) rotateY(90deg) translate3D(0px, 0px, 105px) rotateY(-90deg);\n",
    "  -moz-transform: rotateZ(100deg) rotateY(90deg) translate3D(0px, 0px, 105px) rotateY(-90deg);\n",
    "  -ms-transform: rotateZ(100deg) rotateY(90deg) translate3D(0px, 0px, 105px) rotateY(-90deg);\n",
    "  -o-transform: rotateZ(100deg) rotateY(90deg) translate3D(0px, 0px, 105px) rotateY(-90deg);\n",
    "  transform: rotateZ(100deg) rotateY(90deg) translate3D(0px, 0px, 105px) rotateY(-90deg);\n",
    "  -index: -1;\n",
    "}\n",
    "@keyframes orbit1 {\n",
    "  0% {\n",
    "    -webkit-transform: rotateZ(220deg) rotateY(90deg) translate3D(0px, 0px, 105px) rotateY(-90deg);\n",
    "    -moz-transform: rotateZ(220deg) rotateY(90deg) translate3D(0px, 0px, 105px) rotateY(-90deg);\n",
    "    -ms-transform: rotateZ(220deg) rotateY(90deg) translate3D(0px, 0px, 105px) rotateY(-90deg);\n",
    "    -o-transform: rotateZ(220deg) rotateY(90deg) translate3D(0px, 0px, 105px) rotateY(-90deg);\n",
    "    transform: rotateZ(220deg) rotateY(90deg) translate3D(0px, 0px, 105px) rotateY(-90deg);\n",
    "    z-index: -1;\n",
    "  }\n",
    "  50% {\n",
    "    -webkit-transform: rotateZ(220deg) rotateY(270deg) translate3D(0px, 0px, 105px) rotateY(-270deg);\n",
    "    -moz-transform: rotateZ(220deg) rotateY(270deg) translate3D(0px, 0px, 105px) rotateY(-270deg);\n",
    "    -ms-transform: rotateZ(220deg) rotateY(270deg) translate3D(0px, 0px, 105px) rotateY(-270deg);\n",
    "    -o-transform: rotateZ(220deg) rotateY(270deg) translate3D(0px, 0px, 105px) rotateY(-270deg);\n",
    "    transform: rotateZ(220deg) rotateY(270deg) translate3D(0px, 0px, 105px) rotateY(-270deg);\n",
    "    z-index: -1;\n",
    "  }\n",
    "  75% {\n",
    "    -webkit-transform: rotateZ(220deg) rotateY(360deg) translate3D(0px, 0px, 105px) rotateY(-360deg);\n",
    "    -moz-transform: rotateZ(220deg) rotateY(360deg) translate3D(0px, 0px, 105px) rotateY(-360deg);\n",
    "    -ms-transform: rotateZ(220deg) rotateY(360deg) translate3D(0px, 0px, 105px) rotateY(-360deg);\n",
    "    -o-transform: rotateZ(220deg) rotateY(360deg) translate3D(0px, 0px, 105px) rotateY(-360deg);\n",
    "    transform: rotateZ(220deg) rotateY(360deg) translate3D(0px, 0px, 105px) rotateY(-360deg);\n",
    "    z-index: 2;\n",
    "  }\n",
    "  100% {\n",
    "    -webkit-transform: rotateZ(220deg) rotateY(450deg) translate3D(0px, 0px, 105px) rotateY(-450deg);\n",
    "    -moz-transform: rotateZ(220deg) rotateY(450deg) translate3D(0px, 0px, 105px) rotateY(-450deg);\n",
    "    -ms-transform: rotateZ(220deg) rotateY(450deg) translate3D(0px, 0px, 105px) rotateY(-450deg);\n",
    "    -o-transform: rotateZ(220deg) rotateY(450deg) translate3D(0px, 0px, 105px) rotateY(-450deg);\n",
    "    transform: rotateZ(220deg) rotateY(450deg) translate3D(0px, 0px, 105px) rotateY(-450deg);\n",
    "    z-index: 2;\n",
    "  }\n",
    "}\n",
    "@keyframes orbit2 {\n",
    "  0% {\n",
    "    -webkit-transform: rotateZ(-50deg) rotateY(90deg) translate3D(0px, 0px, 105px) rotateY(-90deg);\n",
    "    -moz-transform: rotateZ(-50deg) rotateY(90deg) translate3D(0px, 0px, 105px) rotateY(-90deg);\n",
    "    -ms-transform: rotateZ(-50deg) rotateY(90deg) translate3D(0px, 0px, 105px) rotateY(-90deg);\n",
    "    -o-transform: rotateZ(-50deg) rotateY(90deg) translate3D(0px, 0px, 105px) rotateY(-90deg);\n",
    "    transform: rotateZ(-50deg) rotateY(90deg) translate3D(0px, 0px, 105px) rotateY(-90deg);\n",
    "    z-index: -1;\n",
    "  }\n",
    "  50% {\n",
    "    -webkit-transform: rotateZ(-50deg) rotateY(270deg) translate3D(0px, 0px, 105px) rotateY(-270deg);\n",
    "    -moz-transform: rotateZ(-50deg) rotateY(270deg) translate3D(0px, 0px, 105px) rotateY(-270deg);\n",
    "    -ms-transform: rotateZ(-50deg) rotateY(270deg) translate3D(0px, 0px, 105px) rotateY(-270deg);\n",
    "    -o-transform: rotateZ(-50deg) rotateY(270deg) translate3D(0px, 0px, 105px) rotateY(-270deg);\n",
    "    transform: rotateZ(-50deg) rotateY(270deg) translate3D(0px, 0px, 105px) rotateY(-270deg);\n",
    "    z-index: -1;\n",
    "  }\n",
    "  75% {\n",
    "    -webkit-transform: rotateZ(-50deg) rotateY(360deg) translate3D(0px, 0px, 105px) rotateY(-360deg);\n",
    "    -moz-transform: rotateZ(-50deg) rotateY(360deg) translate3D(0px, 0px, 105px) rotateY(-360deg);\n",
    "    -ms-transform: rotateZ(-50deg) rotateY(360deg) translate3D(0px, 0px, 105px) rotateY(-360deg);\n",
    "    -o-transform: rotateZ(-50deg) rotateY(360deg) translate3D(0px, 0px, 105px) rotateY(-360deg);\n",
    "    transform: rotateZ(-50deg) rotateY(360deg) translate3D(0px, 0px, 105px) rotateY(-360deg);\n",
    "    z-index: 2;\n",
    "  }\n",
    "  100% {\n",
    "    -webkit-transform: rotateZ(-50deg) rotateY(450deg) translate3D(0px, 0px, 105px) rotateY(-450deg);\n",
    "    -moz-transform: rotateZ(-50deg) rotateY(450deg) translate3D(0px, 0px, 105px) rotateY(-450deg);\n",
    "    -ms-transform: rotateZ(-50deg) rotateY(450deg) translate3D(0px, 0px, 105px) rotateY(-450deg);\n",
    "    -o-transform: rotateZ(-50deg) rotateY(450deg) translate3D(0px, 0px, 105px) rotateY(-450deg);\n",
    "    transform: rotateZ(-50deg) rotateY(450deg) translate3D(0px, 0px, 105px) rotateY(-450deg);\n",
    "    z-index: 2;\n",
    "  }\n",
    "}\n",
    "@keyframes orbit3 {\n",
    "  0% {\n",
    "    -webkit-transform: rotateZ(100deg) rotateY(90deg) translate3D(0px, 0px, 105px) rotateY(-90deg);\n",
    "    -moz-transform: rotateZ(100deg) rotateY(90deg) translate3D(0px, 0px, 105px) rotateY(-90deg);\n",
    "    -ms-transform: rotateZ(100deg) rotateY(90deg) translate3D(0px, 0px, 105px) rotateY(-90deg);\n",
    "    -o-transform: rotateZ(100deg) rotateY(90deg) translate3D(0px, 0px, 105px) rotateY(-90deg);\n",
    "    transform: rotateZ(100deg) rotateY(90deg) translate3D(0px, 0px, 105px) rotateY(-90deg);\n",
    "    z-index: -1;\n",
    "  }\n",
    "  50% {\n",
    "    -webkit-transform: rotateZ(100deg) rotateY(270deg) translate3D(0px, 0px, 105px) rotateY(-270deg);\n",
    "    -moz-transform: rotateZ(100deg) rotateY(270deg) translate3D(0px, 0px, 105px) rotateY(-270deg);\n",
    "    -ms-transform: rotateZ(100deg) rotateY(270deg) translate3D(0px, 0px, 105px) rotateY(-270deg);\n",
    "    -o-transform: rotateZ(100deg) rotateY(270deg) translate3D(0px, 0px, 105px) rotateY(-270deg);\n",
    "    transform: rotateZ(100deg) rotateY(270deg) translate3D(0px, 0px, 105px) rotateY(-270deg);\n",
    "    z-index: -1;\n",
    "  }\n",
    "  75% {\n",
    "    -webkit-transform: rotateZ(100deg) rotateY(360deg) translate3D(0px, 0px, 105px) rotateY(-360deg);\n",
    "    -moz-transform: rotateZ(100deg) rotateY(360deg) translate3D(0px, 0px, 105px) rotateY(-360deg);\n",
    "    -ms-transform: rotateZ(100deg) rotateY(360deg) translate3D(0px, 0px, 105px) rotateY(-360deg);\n",
    "    -o-transform: rotateZ(100deg) rotateY(360deg) translate3D(0px, 0px, 105px) rotateY(-360deg);\n",
    "    transform: rotateZ(100deg) rotateY(360deg) translate3D(0px, 0px, 105px) rotateY(-360deg);\n",
    "    z-index: 2;\n",
    "  }\n",
    "  100% {\n",
    "    -webkit-transform: rotateZ(100deg) rotateY(450deg) translate3D(0px, 0px, 105px) rotateY(-450deg);\n",
    "    -moz-transform: rotateZ(100deg) rotateY(450deg) translate3D(0px, 0px, 105px) rotateY(-450deg);\n",
    "    -ms-transform: rotateZ(100deg) rotateY(450deg) translate3D(0px, 0px, 105px) rotateY(-450deg);\n",
    "    -o-transform: rotateZ(100deg) rotateY(450deg) translate3D(0px, 0px, 105px) rotateY(-450deg);\n",
    "    transform: rotateZ(100deg) rotateY(450deg) translate3D(0px, 0px, 105px) rotateY(-450deg);\n",
    "    z-index: 2;\n",
    "  }\n",
    "}\n",
    "@-webkit-keyframes orbit1 {\n",
    "  0% {\n",
    "    -webkit-transform: rotateZ(220deg) rotateY(90deg) translate3D(0px, 0px, 105px) rotateY(-90deg);\n",
    "    -moz-transform: rotateZ(220deg) rotateY(90deg) translate3D(0px, 0px, 105px) rotateY(-90deg);\n",
    "    -ms-transform: rotateZ(220deg) rotateY(90deg) translate3D(0px, 0px, 105px) rotateY(-90deg);\n",
    "    -o-transform: rotateZ(220deg) rotateY(90deg) translate3D(0px, 0px, 105px) rotateY(-90deg);\n",
    "    transform: rotateZ(220deg) rotateY(90deg) translate3D(0px, 0px, 105px) rotateY(-90deg);\n",
    "    z-index: -1;\n",
    "  }\n",
    "  50% {\n",
    "    -webkit-transform: rotateZ(220deg) rotateY(270deg) translate3D(0px, 0px, 105px) rotateY(-270deg);\n",
    "    -moz-transform: rotateZ(220deg) rotateY(270deg) translate3D(0px, 0px, 105px) rotateY(-270deg);\n",
    "    -ms-transform: rotateZ(220deg) rotateY(270deg) translate3D(0px, 0px, 105px) rotateY(-270deg);\n",
    "    -o-transform: rotateZ(220deg) rotateY(270deg) translate3D(0px, 0px, 105px) rotateY(-270deg);\n",
    "    transform: rotateZ(220deg) rotateY(270deg) translate3D(0px, 0px, 105px) rotateY(-270deg);\n",
    "    z-index: -1;\n",
    "  }\n",
    "  75% {\n",
    "    -webkit-transform: rotateZ(220deg) rotateY(360deg) translate3D(0px, 0px, 105px) rotateY(-360deg);\n",
    "    -moz-transform: rotateZ(220deg) rotateY(360deg) translate3D(0px, 0px, 105px) rotateY(-360deg);\n",
    "    -ms-transform: rotateZ(220deg) rotateY(360deg) translate3D(0px, 0px, 105px) rotateY(-360deg);\n",
    "    -o-transform: rotateZ(220deg) rotateY(360deg) translate3D(0px, 0px, 105px) rotateY(-360deg);\n",
    "    transform: rotateZ(220deg) rotateY(360deg) translate3D(0px, 0px, 105px) rotateY(-360deg);\n",
    "    z-index: 2;\n",
    "  }\n",
    "  100% {\n",
    "    -webkit-transform: rotateZ(220deg) rotateY(450deg) translate3D(0px, 0px, 105px) rotateY(-450deg);\n",
    "    -moz-transform: rotateZ(220deg) rotateY(450deg) translate3D(0px, 0px, 105px) rotateY(-450deg);\n",
    "    -ms-transform: rotateZ(220deg) rotateY(450deg) translate3D(0px, 0px, 105px) rotateY(-450deg);\n",
    "    -o-transform: rotateZ(220deg) rotateY(450deg) translate3D(0px, 0px, 105px) rotateY(-450deg);\n",
    "    transform: rotateZ(220deg) rotateY(450deg) translate3D(0px, 0px, 105px) rotateY(-450deg);\n",
    "    z-index: 2;\n",
    "  }\n",
    "}\n",
    "@-webkit-keyframes orbit2 {\n",
    "  0% {\n",
    "    -webkit-transform: rotateZ(-50deg) rotateY(90deg) translate3D(0px, 0px, 105px) rotateY(-90deg);\n",
    "    -moz-transform: rotateZ(-50deg) rotateY(90deg) translate3D(0px, 0px, 105px) rotateY(-90deg);\n",
    "    -ms-transform: rotateZ(-50deg) rotateY(90deg) translate3D(0px, 0px, 105px) rotateY(-90deg);\n",
    "    -o-transform: rotateZ(-50deg) rotateY(90deg) translate3D(0px, 0px, 105px) rotateY(-90deg);\n",
    "    transform: rotateZ(-50deg) rotateY(90deg) translate3D(0px, 0px, 105px) rotateY(-90deg);\n",
    "    z-index: -1;\n",
    "  }\n",
    "  50% {\n",
    "    -webkit-transform: rotateZ(-50deg) rotateY(270deg) translate3D(0px, 0px, 105px) rotateY(-270deg);\n",
    "    -moz-transform: rotateZ(-50deg) rotateY(270deg) translate3D(0px, 0px, 105px) rotateY(-270deg);\n",
    "    -ms-transform: rotateZ(-50deg) rotateY(270deg) translate3D(0px, 0px, 105px) rotateY(-270deg);\n",
    "    -o-transform: rotateZ(-50deg) rotateY(270deg) translate3D(0px, 0px, 105px) rotateY(-270deg);\n",
    "    transform: rotateZ(-50deg) rotateY(270deg) translate3D(0px, 0px, 105px) rotateY(-270deg);\n",
    "    z-index: -1;\n",
    "  }\n",
    "  75% {\n",
    "    -webkit-transform: rotateZ(-50deg) rotateY(360deg) translate3D(0px, 0px, 105px) rotateY(-360deg);\n",
    "    -moz-transform: rotateZ(-50deg) rotateY(360deg) translate3D(0px, 0px, 105px) rotateY(-360deg);\n",
    "    -ms-transform: rotateZ(-50deg) rotateY(360deg) translate3D(0px, 0px, 105px) rotateY(-360deg);\n",
    "    -o-transform: rotateZ(-50deg) rotateY(360deg) translate3D(0px, 0px, 105px) rotateY(-360deg);\n",
    "    transform: rotateZ(-50deg) rotateY(360deg) translate3D(0px, 0px, 105px) rotateY(-360deg);\n",
    "    z-index: 2;\n",
    "  }\n",
    "  100% {\n",
    "    -webkit-transform: rotateZ(-50deg) rotateY(450deg) translate3D(0px, 0px, 105px) rotateY(-450deg);\n",
    "    -moz-transform: rotateZ(-50deg) rotateY(450deg) translate3D(0px, 0px, 105px) rotateY(-450deg);\n",
    "    -ms-transform: rotateZ(-50deg) rotateY(450deg) translate3D(0px, 0px, 105px) rotateY(-450deg);\n",
    "    -o-transform: rotateZ(-50deg) rotateY(450deg) translate3D(0px, 0px, 105px) rotateY(-450deg);\n",
    "    transform: rotateZ(-50deg) rotateY(450deg) translate3D(0px, 0px, 105px) rotateY(-450deg);\n",
    "    z-index: 2;\n",
    "  }\n",
    "}\n",
    "@-webkit-keyframes orbit3 {\n",
    "  0% {\n",
    "    -webkit-transform: rotateZ(100deg) rotateY(90deg) translate3D(0px, 0px, 105px) rotateY(-90deg);\n",
    "    -moz-transform: rotateZ(100deg) rotateY(90deg) translate3D(0px, 0px, 105px) rotateY(-90deg);\n",
    "    -ms-transform: rotateZ(100deg) rotateY(90deg) translate3D(0px, 0px, 105px) rotateY(-90deg);\n",
    "    -o-transform: rotateZ(100deg) rotateY(90deg) translate3D(0px, 0px, 105px) rotateY(-90deg);\n",
    "    transform: rotateZ(100deg) rotateY(90deg) translate3D(0px, 0px, 105px) rotateY(-90deg);\n",
    "    z-index: -1;\n",
    "  }\n",
    "  50% {\n",
    "    -webkit-transform: rotateZ(100deg) rotateY(270deg) translate3D(0px, 0px, 105px) rotateY(-270deg);\n",
    "    -moz-transform: rotateZ(100deg) rotateY(270deg) translate3D(0px, 0px, 105px) rotateY(-270deg);\n",
    "    -ms-transform: rotateZ(100deg) rotateY(270deg) translate3D(0px, 0px, 105px) rotateY(-270deg);\n",
    "    -o-transform: rotateZ(100deg) rotateY(270deg) translate3D(0px, 0px, 105px) rotateY(-270deg);\n",
    "    transform: rotateZ(100deg) rotateY(270deg) translate3D(0px, 0px, 105px) rotateY(-270deg);\n",
    "    z-index: -1;\n",
    "  }\n",
    "  75% {\n",
    "    -webkit-transform: rotateZ(100deg) rotateY(360deg) translate3D(0px, 0px, 105px) rotateY(-360deg);\n",
    "    -moz-transform: rotateZ(100deg) rotateY(360deg) translate3D(0px, 0px, 105px) rotateY(-360deg);\n",
    "    -ms-transform: rotateZ(100deg) rotateY(360deg) translate3D(0px, 0px, 105px) rotateY(-360deg);\n",
    "    -o-transform: rotateZ(100deg) rotateY(360deg) translate3D(0px, 0px, 105px) rotateY(-360deg);\n",
    "    transform: rotateZ(100deg) rotateY(360deg) translate3D(0px, 0px, 105px) rotateY(-360deg);\n",
    "    z-index: 2;\n",
    "  }\n",
    "  100% {\n",
    "    -webkit-transform: rotateZ(100deg) rotateY(450deg) translate3D(0px, 0px, 105px) rotateY(-450deg);\n",
    "    -moz-transform: rotateZ(100deg) rotateY(450deg) translate3D(0px, 0px, 105px) rotateY(-450deg);\n",
    "    -ms-transform: rotateZ(100deg) rotateY(450deg) translate3D(0px, 0px, 105px) rotateY(-450deg);\n",
    "    -o-transform: rotateZ(100deg) rotateY(450deg) translate3D(0px, 0px, 105px) rotateY(-450deg);\n",
    "    transform: rotateZ(100deg) rotateY(450deg) translate3D(0px, 0px, 105px) rotateY(-450deg);\n",
    "    z-index: 2;\n",
    "  }\n",
    "}\n",
    "        </style>\n",
    "    </head>\n",
    "    <body>\n",
    "        <br/>\n",
    "        <br/>\n",
    "        <br/>\n",
    "        <br/>\n",
    "        <br/>\n",
    "        <br/>\n",
    "        <br/>\n",
    "        <br/>\n",
    "        <br/>\n",
    "        <br/>\n",
    "        <br/>\n",
    "        <div class=\"scene\">\n",
    "            <div class=\"planet\">\n",
    "                <img class=\"planetImg\" src = \"https://raw.githubusercontent.com/alope107/JupyterOrbit/master/Jupyter-Logo.png\">\n",
    "                <div class=\"moon moon1\"></div>\n",
    "                <div class=\"moon moon2\"></div>\n",
    "                <div class=\"moon moon3\"></div>\n",
    "            </div>\n",
    "        </div>\n",
    "    </body>\n",
    "</html>\n",
    "\"\"\""
   ]
  },
  {
   "cell_type": "markdown",
   "metadata": {
    "slideshow": {
     "slide_type": "slide"
    }
   },
   "source": [
    "#Free and Open Source\n",
    "Try it now at try.jupyter.org"
   ]
  },
  {
   "cell_type": "markdown",
   "metadata": {
    "slideshow": {
     "slide_type": "slide"
    }
   },
   "source": [
    "#Questions?"
   ]
  },
  {
   "cell_type": "code",
   "execution_count": 12,
   "metadata": {
    "collapsed": false,
    "slideshow": {
     "slide_type": "-"
    }
   },
   "outputs": [
    {
     "data": {
      "text/html": [
       "\n",
       "<html>\n",
       "    <head>\n",
       "        <style>\n",
       "        body {\n",
       "  background-color: #b0c4de;\n",
       "}\n",
       ".scene {\n",
       "  perspective: 450px;\n",
       "  -webkit-perspective: 450px;\n",
       "  perspective-orgin: 100px;\n",
       "  -webkit-perspective-origin: 100px;\n",
       "  position: absolute;\n",
       "  top: 50%;\n",
       "  left: 50%;\n",
       "}\n",
       ".planet {\n",
       "  position: absolute;\n",
       "  left: -75px;\n",
       "  top: -75px;\n",
       "  width: 150px;\n",
       "  height: 150px;\n",
       "  border-radius: 50%;\n",
       "}\n",
       ".planetImg {\n",
       "  width: 150px;\n",
       "  height: 150px;\n",
       "}\n",
       ".moon {\n",
       "  position: absolute;\n",
       "  left: 50%;\n",
       "  top: 50%;\n",
       "  width: 22.5px;\n",
       "  height: 22.5px;\n",
       "  border-radius: 22.5px;\n",
       "  background-color: #636463;\n",
       "  -webkit-animation-duration: 3s;\n",
       "  -moz-animation-duration: 3s;\n",
       "  -ms-animation-duration: 3s;\n",
       "  -o-animation-duration: 3s;\n",
       "  -webkit-animation-iteration-count: infinite;\n",
       "  -moz-animation-iteration-count: infinite;\n",
       "  -ms-animation-iteration-count: infinite;\n",
       "  -o-animation-iteration-count: infinite;\n",
       "  animation-iteration-count: infinite;\n",
       "  -webkit-animation-timing-function: linear;\n",
       "  -moz-animation-timing-function: linear;\n",
       "  -ms-animation-timing-function: linear;\n",
       "  -o-animation-timing-function: linear;\n",
       "  animation-timing-function: linear;\n",
       "  z-index: 1;\n",
       "}\n",
       ".moon1 {\n",
       "  -webkit-animation-name: orbit1;\n",
       "  -moz-animation-name: orbit1;\n",
       "  -ms-animation-name: orbit1;\n",
       "  -o-animation-name: orbit1;\n",
       "  animation-name: orbit1;\n",
       "  -webkit-transform: rotateZ(220deg) rotateY(90deg) translate3D(0px, 0px, 105px) rotateY(-90deg);\n",
       "  -moz-transform: rotateZ(220deg) rotateY(90deg) translate3D(0px, 0px, 105px) rotateY(-90deg);\n",
       "  -ms-transform: rotateZ(220deg) rotateY(90deg) translate3D(0px, 0px, 105px) rotateY(-90deg);\n",
       "  -o-transform: rotateZ(220deg) rotateY(90deg) translate3D(0px, 0px, 105px) rotateY(-90deg);\n",
       "  transform: rotateZ(220deg) rotateY(90deg) translate3D(0px, 0px, 105px) rotateY(-90deg);\n",
       "}\n",
       ".moon2 {\n",
       "  -webkit-animation-name: orbit2;\n",
       "  -moz-animation-name: orbit2;\n",
       "  -ms-animation-name: orbit2;\n",
       "  -o-animation-name: orbit2;\n",
       "  animation-name: orbit2;\n",
       "  -webkit-animation-delay: -1s;\n",
       "  -moz-animation-delay: -1s;\n",
       "  -ms-animation-delay: -1s;\n",
       "  -o-animation-delay: -1s;\n",
       "  animation-delay: -1s;\n",
       "  -webkit-transform: rotateZ(-50deg) rotateY(90deg) translate3D(0px, 0px, 105px) rotateY(-90deg);\n",
       "  -moz-transform: rotateZ(-50deg) rotateY(90deg) translate3D(0px, 0px, 105px) rotateY(-90deg);\n",
       "  -ms-transform: rotateZ(-50deg) rotateY(90deg) translate3D(0px, 0px, 105px) rotateY(-90deg);\n",
       "  -o-transform: rotateZ(-50deg) rotateY(90deg) translate3D(0px, 0px, 105px) rotateY(-90deg);\n",
       "  transform: rotateZ(-50deg) rotateY(90deg) translate3D(0px, 0px, 105px) rotateY(-90deg);\n",
       "  z-index: -1;\n",
       "}\n",
       ".moon3 {\n",
       "  -webkit-animation-name: orbit3;\n",
       "  -moz-animation-name: orbit3;\n",
       "  -ms-animation-name: orbit3;\n",
       "  -o-animation-name: orbit3;\n",
       "  animation-name: orbit3;\n",
       "  -webkit-animation-delay: -2s;\n",
       "  -moz-animation-delay: -2s;\n",
       "  -ms-animation-delay: -2s;\n",
       "  -o-animation-delay: -2s;\n",
       "  animation-delay: -2s;\n",
       "  -webkit-transform: rotateZ(100deg) rotateY(90deg) translate3D(0px, 0px, 105px) rotateY(-90deg);\n",
       "  -moz-transform: rotateZ(100deg) rotateY(90deg) translate3D(0px, 0px, 105px) rotateY(-90deg);\n",
       "  -ms-transform: rotateZ(100deg) rotateY(90deg) translate3D(0px, 0px, 105px) rotateY(-90deg);\n",
       "  -o-transform: rotateZ(100deg) rotateY(90deg) translate3D(0px, 0px, 105px) rotateY(-90deg);\n",
       "  transform: rotateZ(100deg) rotateY(90deg) translate3D(0px, 0px, 105px) rotateY(-90deg);\n",
       "  -index: -1;\n",
       "}\n",
       "@keyframes orbit1 {\n",
       "  0% {\n",
       "    -webkit-transform: rotateZ(220deg) rotateY(90deg) translate3D(0px, 0px, 105px) rotateY(-90deg);\n",
       "    -moz-transform: rotateZ(220deg) rotateY(90deg) translate3D(0px, 0px, 105px) rotateY(-90deg);\n",
       "    -ms-transform: rotateZ(220deg) rotateY(90deg) translate3D(0px, 0px, 105px) rotateY(-90deg);\n",
       "    -o-transform: rotateZ(220deg) rotateY(90deg) translate3D(0px, 0px, 105px) rotateY(-90deg);\n",
       "    transform: rotateZ(220deg) rotateY(90deg) translate3D(0px, 0px, 105px) rotateY(-90deg);\n",
       "    z-index: -1;\n",
       "  }\n",
       "  50% {\n",
       "    -webkit-transform: rotateZ(220deg) rotateY(270deg) translate3D(0px, 0px, 105px) rotateY(-270deg);\n",
       "    -moz-transform: rotateZ(220deg) rotateY(270deg) translate3D(0px, 0px, 105px) rotateY(-270deg);\n",
       "    -ms-transform: rotateZ(220deg) rotateY(270deg) translate3D(0px, 0px, 105px) rotateY(-270deg);\n",
       "    -o-transform: rotateZ(220deg) rotateY(270deg) translate3D(0px, 0px, 105px) rotateY(-270deg);\n",
       "    transform: rotateZ(220deg) rotateY(270deg) translate3D(0px, 0px, 105px) rotateY(-270deg);\n",
       "    z-index: -1;\n",
       "  }\n",
       "  75% {\n",
       "    -webkit-transform: rotateZ(220deg) rotateY(360deg) translate3D(0px, 0px, 105px) rotateY(-360deg);\n",
       "    -moz-transform: rotateZ(220deg) rotateY(360deg) translate3D(0px, 0px, 105px) rotateY(-360deg);\n",
       "    -ms-transform: rotateZ(220deg) rotateY(360deg) translate3D(0px, 0px, 105px) rotateY(-360deg);\n",
       "    -o-transform: rotateZ(220deg) rotateY(360deg) translate3D(0px, 0px, 105px) rotateY(-360deg);\n",
       "    transform: rotateZ(220deg) rotateY(360deg) translate3D(0px, 0px, 105px) rotateY(-360deg);\n",
       "    z-index: 2;\n",
       "  }\n",
       "  100% {\n",
       "    -webkit-transform: rotateZ(220deg) rotateY(450deg) translate3D(0px, 0px, 105px) rotateY(-450deg);\n",
       "    -moz-transform: rotateZ(220deg) rotateY(450deg) translate3D(0px, 0px, 105px) rotateY(-450deg);\n",
       "    -ms-transform: rotateZ(220deg) rotateY(450deg) translate3D(0px, 0px, 105px) rotateY(-450deg);\n",
       "    -o-transform: rotateZ(220deg) rotateY(450deg) translate3D(0px, 0px, 105px) rotateY(-450deg);\n",
       "    transform: rotateZ(220deg) rotateY(450deg) translate3D(0px, 0px, 105px) rotateY(-450deg);\n",
       "    z-index: 2;\n",
       "  }\n",
       "}\n",
       "@keyframes orbit2 {\n",
       "  0% {\n",
       "    -webkit-transform: rotateZ(-50deg) rotateY(90deg) translate3D(0px, 0px, 105px) rotateY(-90deg);\n",
       "    -moz-transform: rotateZ(-50deg) rotateY(90deg) translate3D(0px, 0px, 105px) rotateY(-90deg);\n",
       "    -ms-transform: rotateZ(-50deg) rotateY(90deg) translate3D(0px, 0px, 105px) rotateY(-90deg);\n",
       "    -o-transform: rotateZ(-50deg) rotateY(90deg) translate3D(0px, 0px, 105px) rotateY(-90deg);\n",
       "    transform: rotateZ(-50deg) rotateY(90deg) translate3D(0px, 0px, 105px) rotateY(-90deg);\n",
       "    z-index: -1;\n",
       "  }\n",
       "  50% {\n",
       "    -webkit-transform: rotateZ(-50deg) rotateY(270deg) translate3D(0px, 0px, 105px) rotateY(-270deg);\n",
       "    -moz-transform: rotateZ(-50deg) rotateY(270deg) translate3D(0px, 0px, 105px) rotateY(-270deg);\n",
       "    -ms-transform: rotateZ(-50deg) rotateY(270deg) translate3D(0px, 0px, 105px) rotateY(-270deg);\n",
       "    -o-transform: rotateZ(-50deg) rotateY(270deg) translate3D(0px, 0px, 105px) rotateY(-270deg);\n",
       "    transform: rotateZ(-50deg) rotateY(270deg) translate3D(0px, 0px, 105px) rotateY(-270deg);\n",
       "    z-index: -1;\n",
       "  }\n",
       "  75% {\n",
       "    -webkit-transform: rotateZ(-50deg) rotateY(360deg) translate3D(0px, 0px, 105px) rotateY(-360deg);\n",
       "    -moz-transform: rotateZ(-50deg) rotateY(360deg) translate3D(0px, 0px, 105px) rotateY(-360deg);\n",
       "    -ms-transform: rotateZ(-50deg) rotateY(360deg) translate3D(0px, 0px, 105px) rotateY(-360deg);\n",
       "    -o-transform: rotateZ(-50deg) rotateY(360deg) translate3D(0px, 0px, 105px) rotateY(-360deg);\n",
       "    transform: rotateZ(-50deg) rotateY(360deg) translate3D(0px, 0px, 105px) rotateY(-360deg);\n",
       "    z-index: 2;\n",
       "  }\n",
       "  100% {\n",
       "    -webkit-transform: rotateZ(-50deg) rotateY(450deg) translate3D(0px, 0px, 105px) rotateY(-450deg);\n",
       "    -moz-transform: rotateZ(-50deg) rotateY(450deg) translate3D(0px, 0px, 105px) rotateY(-450deg);\n",
       "    -ms-transform: rotateZ(-50deg) rotateY(450deg) translate3D(0px, 0px, 105px) rotateY(-450deg);\n",
       "    -o-transform: rotateZ(-50deg) rotateY(450deg) translate3D(0px, 0px, 105px) rotateY(-450deg);\n",
       "    transform: rotateZ(-50deg) rotateY(450deg) translate3D(0px, 0px, 105px) rotateY(-450deg);\n",
       "    z-index: 2;\n",
       "  }\n",
       "}\n",
       "@keyframes orbit3 {\n",
       "  0% {\n",
       "    -webkit-transform: rotateZ(100deg) rotateY(90deg) translate3D(0px, 0px, 105px) rotateY(-90deg);\n",
       "    -moz-transform: rotateZ(100deg) rotateY(90deg) translate3D(0px, 0px, 105px) rotateY(-90deg);\n",
       "    -ms-transform: rotateZ(100deg) rotateY(90deg) translate3D(0px, 0px, 105px) rotateY(-90deg);\n",
       "    -o-transform: rotateZ(100deg) rotateY(90deg) translate3D(0px, 0px, 105px) rotateY(-90deg);\n",
       "    transform: rotateZ(100deg) rotateY(90deg) translate3D(0px, 0px, 105px) rotateY(-90deg);\n",
       "    z-index: -1;\n",
       "  }\n",
       "  50% {\n",
       "    -webkit-transform: rotateZ(100deg) rotateY(270deg) translate3D(0px, 0px, 105px) rotateY(-270deg);\n",
       "    -moz-transform: rotateZ(100deg) rotateY(270deg) translate3D(0px, 0px, 105px) rotateY(-270deg);\n",
       "    -ms-transform: rotateZ(100deg) rotateY(270deg) translate3D(0px, 0px, 105px) rotateY(-270deg);\n",
       "    -o-transform: rotateZ(100deg) rotateY(270deg) translate3D(0px, 0px, 105px) rotateY(-270deg);\n",
       "    transform: rotateZ(100deg) rotateY(270deg) translate3D(0px, 0px, 105px) rotateY(-270deg);\n",
       "    z-index: -1;\n",
       "  }\n",
       "  75% {\n",
       "    -webkit-transform: rotateZ(100deg) rotateY(360deg) translate3D(0px, 0px, 105px) rotateY(-360deg);\n",
       "    -moz-transform: rotateZ(100deg) rotateY(360deg) translate3D(0px, 0px, 105px) rotateY(-360deg);\n",
       "    -ms-transform: rotateZ(100deg) rotateY(360deg) translate3D(0px, 0px, 105px) rotateY(-360deg);\n",
       "    -o-transform: rotateZ(100deg) rotateY(360deg) translate3D(0px, 0px, 105px) rotateY(-360deg);\n",
       "    transform: rotateZ(100deg) rotateY(360deg) translate3D(0px, 0px, 105px) rotateY(-360deg);\n",
       "    z-index: 2;\n",
       "  }\n",
       "  100% {\n",
       "    -webkit-transform: rotateZ(100deg) rotateY(450deg) translate3D(0px, 0px, 105px) rotateY(-450deg);\n",
       "    -moz-transform: rotateZ(100deg) rotateY(450deg) translate3D(0px, 0px, 105px) rotateY(-450deg);\n",
       "    -ms-transform: rotateZ(100deg) rotateY(450deg) translate3D(0px, 0px, 105px) rotateY(-450deg);\n",
       "    -o-transform: rotateZ(100deg) rotateY(450deg) translate3D(0px, 0px, 105px) rotateY(-450deg);\n",
       "    transform: rotateZ(100deg) rotateY(450deg) translate3D(0px, 0px, 105px) rotateY(-450deg);\n",
       "    z-index: 2;\n",
       "  }\n",
       "}\n",
       "@-webkit-keyframes orbit1 {\n",
       "  0% {\n",
       "    -webkit-transform: rotateZ(220deg) rotateY(90deg) translate3D(0px, 0px, 105px) rotateY(-90deg);\n",
       "    -moz-transform: rotateZ(220deg) rotateY(90deg) translate3D(0px, 0px, 105px) rotateY(-90deg);\n",
       "    -ms-transform: rotateZ(220deg) rotateY(90deg) translate3D(0px, 0px, 105px) rotateY(-90deg);\n",
       "    -o-transform: rotateZ(220deg) rotateY(90deg) translate3D(0px, 0px, 105px) rotateY(-90deg);\n",
       "    transform: rotateZ(220deg) rotateY(90deg) translate3D(0px, 0px, 105px) rotateY(-90deg);\n",
       "    z-index: -1;\n",
       "  }\n",
       "  50% {\n",
       "    -webkit-transform: rotateZ(220deg) rotateY(270deg) translate3D(0px, 0px, 105px) rotateY(-270deg);\n",
       "    -moz-transform: rotateZ(220deg) rotateY(270deg) translate3D(0px, 0px, 105px) rotateY(-270deg);\n",
       "    -ms-transform: rotateZ(220deg) rotateY(270deg) translate3D(0px, 0px, 105px) rotateY(-270deg);\n",
       "    -o-transform: rotateZ(220deg) rotateY(270deg) translate3D(0px, 0px, 105px) rotateY(-270deg);\n",
       "    transform: rotateZ(220deg) rotateY(270deg) translate3D(0px, 0px, 105px) rotateY(-270deg);\n",
       "    z-index: -1;\n",
       "  }\n",
       "  75% {\n",
       "    -webkit-transform: rotateZ(220deg) rotateY(360deg) translate3D(0px, 0px, 105px) rotateY(-360deg);\n",
       "    -moz-transform: rotateZ(220deg) rotateY(360deg) translate3D(0px, 0px, 105px) rotateY(-360deg);\n",
       "    -ms-transform: rotateZ(220deg) rotateY(360deg) translate3D(0px, 0px, 105px) rotateY(-360deg);\n",
       "    -o-transform: rotateZ(220deg) rotateY(360deg) translate3D(0px, 0px, 105px) rotateY(-360deg);\n",
       "    transform: rotateZ(220deg) rotateY(360deg) translate3D(0px, 0px, 105px) rotateY(-360deg);\n",
       "    z-index: 2;\n",
       "  }\n",
       "  100% {\n",
       "    -webkit-transform: rotateZ(220deg) rotateY(450deg) translate3D(0px, 0px, 105px) rotateY(-450deg);\n",
       "    -moz-transform: rotateZ(220deg) rotateY(450deg) translate3D(0px, 0px, 105px) rotateY(-450deg);\n",
       "    -ms-transform: rotateZ(220deg) rotateY(450deg) translate3D(0px, 0px, 105px) rotateY(-450deg);\n",
       "    -o-transform: rotateZ(220deg) rotateY(450deg) translate3D(0px, 0px, 105px) rotateY(-450deg);\n",
       "    transform: rotateZ(220deg) rotateY(450deg) translate3D(0px, 0px, 105px) rotateY(-450deg);\n",
       "    z-index: 2;\n",
       "  }\n",
       "}\n",
       "@-webkit-keyframes orbit2 {\n",
       "  0% {\n",
       "    -webkit-transform: rotateZ(-50deg) rotateY(90deg) translate3D(0px, 0px, 105px) rotateY(-90deg);\n",
       "    -moz-transform: rotateZ(-50deg) rotateY(90deg) translate3D(0px, 0px, 105px) rotateY(-90deg);\n",
       "    -ms-transform: rotateZ(-50deg) rotateY(90deg) translate3D(0px, 0px, 105px) rotateY(-90deg);\n",
       "    -o-transform: rotateZ(-50deg) rotateY(90deg) translate3D(0px, 0px, 105px) rotateY(-90deg);\n",
       "    transform: rotateZ(-50deg) rotateY(90deg) translate3D(0px, 0px, 105px) rotateY(-90deg);\n",
       "    z-index: -1;\n",
       "  }\n",
       "  50% {\n",
       "    -webkit-transform: rotateZ(-50deg) rotateY(270deg) translate3D(0px, 0px, 105px) rotateY(-270deg);\n",
       "    -moz-transform: rotateZ(-50deg) rotateY(270deg) translate3D(0px, 0px, 105px) rotateY(-270deg);\n",
       "    -ms-transform: rotateZ(-50deg) rotateY(270deg) translate3D(0px, 0px, 105px) rotateY(-270deg);\n",
       "    -o-transform: rotateZ(-50deg) rotateY(270deg) translate3D(0px, 0px, 105px) rotateY(-270deg);\n",
       "    transform: rotateZ(-50deg) rotateY(270deg) translate3D(0px, 0px, 105px) rotateY(-270deg);\n",
       "    z-index: -1;\n",
       "  }\n",
       "  75% {\n",
       "    -webkit-transform: rotateZ(-50deg) rotateY(360deg) translate3D(0px, 0px, 105px) rotateY(-360deg);\n",
       "    -moz-transform: rotateZ(-50deg) rotateY(360deg) translate3D(0px, 0px, 105px) rotateY(-360deg);\n",
       "    -ms-transform: rotateZ(-50deg) rotateY(360deg) translate3D(0px, 0px, 105px) rotateY(-360deg);\n",
       "    -o-transform: rotateZ(-50deg) rotateY(360deg) translate3D(0px, 0px, 105px) rotateY(-360deg);\n",
       "    transform: rotateZ(-50deg) rotateY(360deg) translate3D(0px, 0px, 105px) rotateY(-360deg);\n",
       "    z-index: 2;\n",
       "  }\n",
       "  100% {\n",
       "    -webkit-transform: rotateZ(-50deg) rotateY(450deg) translate3D(0px, 0px, 105px) rotateY(-450deg);\n",
       "    -moz-transform: rotateZ(-50deg) rotateY(450deg) translate3D(0px, 0px, 105px) rotateY(-450deg);\n",
       "    -ms-transform: rotateZ(-50deg) rotateY(450deg) translate3D(0px, 0px, 105px) rotateY(-450deg);\n",
       "    -o-transform: rotateZ(-50deg) rotateY(450deg) translate3D(0px, 0px, 105px) rotateY(-450deg);\n",
       "    transform: rotateZ(-50deg) rotateY(450deg) translate3D(0px, 0px, 105px) rotateY(-450deg);\n",
       "    z-index: 2;\n",
       "  }\n",
       "}\n",
       "@-webkit-keyframes orbit3 {\n",
       "  0% {\n",
       "    -webkit-transform: rotateZ(100deg) rotateY(90deg) translate3D(0px, 0px, 105px) rotateY(-90deg);\n",
       "    -moz-transform: rotateZ(100deg) rotateY(90deg) translate3D(0px, 0px, 105px) rotateY(-90deg);\n",
       "    -ms-transform: rotateZ(100deg) rotateY(90deg) translate3D(0px, 0px, 105px) rotateY(-90deg);\n",
       "    -o-transform: rotateZ(100deg) rotateY(90deg) translate3D(0px, 0px, 105px) rotateY(-90deg);\n",
       "    transform: rotateZ(100deg) rotateY(90deg) translate3D(0px, 0px, 105px) rotateY(-90deg);\n",
       "    z-index: -1;\n",
       "  }\n",
       "  50% {\n",
       "    -webkit-transform: rotateZ(100deg) rotateY(270deg) translate3D(0px, 0px, 105px) rotateY(-270deg);\n",
       "    -moz-transform: rotateZ(100deg) rotateY(270deg) translate3D(0px, 0px, 105px) rotateY(-270deg);\n",
       "    -ms-transform: rotateZ(100deg) rotateY(270deg) translate3D(0px, 0px, 105px) rotateY(-270deg);\n",
       "    -o-transform: rotateZ(100deg) rotateY(270deg) translate3D(0px, 0px, 105px) rotateY(-270deg);\n",
       "    transform: rotateZ(100deg) rotateY(270deg) translate3D(0px, 0px, 105px) rotateY(-270deg);\n",
       "    z-index: -1;\n",
       "  }\n",
       "  75% {\n",
       "    -webkit-transform: rotateZ(100deg) rotateY(360deg) translate3D(0px, 0px, 105px) rotateY(-360deg);\n",
       "    -moz-transform: rotateZ(100deg) rotateY(360deg) translate3D(0px, 0px, 105px) rotateY(-360deg);\n",
       "    -ms-transform: rotateZ(100deg) rotateY(360deg) translate3D(0px, 0px, 105px) rotateY(-360deg);\n",
       "    -o-transform: rotateZ(100deg) rotateY(360deg) translate3D(0px, 0px, 105px) rotateY(-360deg);\n",
       "    transform: rotateZ(100deg) rotateY(360deg) translate3D(0px, 0px, 105px) rotateY(-360deg);\n",
       "    z-index: 2;\n",
       "  }\n",
       "  100% {\n",
       "    -webkit-transform: rotateZ(100deg) rotateY(450deg) translate3D(0px, 0px, 105px) rotateY(-450deg);\n",
       "    -moz-transform: rotateZ(100deg) rotateY(450deg) translate3D(0px, 0px, 105px) rotateY(-450deg);\n",
       "    -ms-transform: rotateZ(100deg) rotateY(450deg) translate3D(0px, 0px, 105px) rotateY(-450deg);\n",
       "    -o-transform: rotateZ(100deg) rotateY(450deg) translate3D(0px, 0px, 105px) rotateY(-450deg);\n",
       "    transform: rotateZ(100deg) rotateY(450deg) translate3D(0px, 0px, 105px) rotateY(-450deg);\n",
       "    z-index: 2;\n",
       "  }\n",
       "}\n",
       "        </style>\n",
       "    </head>\n",
       "    <body>\n",
       "        <br/>\n",
       "        <br/>\n",
       "        <br/>\n",
       "        <br/>\n",
       "        <br/>\n",
       "        <br/>\n",
       "        <br/>\n",
       "        <br/>\n",
       "        <br/>\n",
       "        <br/>\n",
       "        <br/>\n",
       "        <div class=\"scene\">\n",
       "            <div class=\"planet\">\n",
       "                <img class=\"planetImg\" src = \"https://raw.githubusercontent.com/alope107/JupyterOrbit/master/Jupyter-Logo.png\">\n",
       "                <div class=\"moon moon1\"></div>\n",
       "                <div class=\"moon moon2\"></div>\n",
       "                <div class=\"moon moon3\"></div>\n",
       "            </div>\n",
       "        </div>\n",
       "    </body>\n",
       "</html>\n"
      ],
      "text/plain": [
       "<IPython.core.display.HTML object>"
      ]
     },
     "execution_count": 12,
     "metadata": {},
     "output_type": "execute_result"
    }
   ],
   "source": [
    "HTML(css_logo)"
   ]
  },
  {
   "cell_type": "code",
   "execution_count": null,
   "metadata": {
    "collapsed": true,
    "slideshow": {
     "slide_type": "skip"
    }
   },
   "outputs": [],
   "source": []
  }
 ],
 "metadata": {
  "celltoolbar": "Slideshow",
  "kernelspec": {
   "display_name": "Python 2",
   "language": "python",
   "name": "python2"
  },
  "language_info": {
   "codemirror_mode": {
    "name": "ipython",
    "version": 2
   },
   "file_extension": ".py",
   "mimetype": "text/x-python",
   "name": "python",
   "nbconvert_exporter": "python",
   "pygments_lexer": "ipython2",
   "version": "2.7.10"
  }
 },
 "nbformat": 4,
 "nbformat_minor": 0
}
